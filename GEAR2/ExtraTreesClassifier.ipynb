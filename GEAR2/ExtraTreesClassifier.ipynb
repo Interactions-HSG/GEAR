{
 "cells": [
  {
   "attachments": {},
   "cell_type": "markdown",
   "id": "c13dc825-c724-428e-a949-9afb82f84a47",
   "metadata": {},
   "source": [
    "# An **ExtraTrees** Classifier for HoloLens 2 Gaze Features\n",
    "### Training a classifier with gaze features for calculating predictions of various activities\n",
    "\n",
    "This notebook trains an ExtraTreesClassifier with selected features and corresponding labels.\\\n",
    "The features and labels are read from a given csv-file.\n"
   ]
  },
  {
   "cell_type": "markdown",
   "id": "6b9fc75e-d0d9-4adc-b9c8-19799bb714af",
   "metadata": {},
   "source": [
    "## Read data from a csv-file."
   ]
  },
  {
   "cell_type": "code",
   "execution_count": null,
   "id": "717202ba-c9c8-4fef-b370-47f3d431c6b3",
   "metadata": {},
   "outputs": [],
   "source": [
    "import os\n",
    "import pandas as pd\n",
    "\n",
    "# CHANGE these locations to where you stored the feature files ⬇️\n",
    "recording_location = './'\n",
    "all_features_csv = os.path.join(recording_location, './Data/FeatureFiles/feature_list_all.csv')\n",
    "df = pd.read_csv(all_features_csv)"
   ]
  },
  {
   "cell_type": "code",
   "execution_count": null,
   "id": "23cd252f",
   "metadata": {},
   "outputs": [],
   "source": [
    "# Uncomment the following lines to see all columns of the csv file (i.e., the features and labels)\n",
    "# print(\"Columns of the CSV file are 19 features, label of the activity, duration or the timespan of the activity, and the ID of the participant:\")\n",
    "# list(df.columns)"
   ]
  },
  {
   "cell_type": "code",
   "execution_count": null,
   "id": "b6967ae7-6306-4c05-aab5-08523019c483",
   "metadata": {
    "tags": []
   },
   "outputs": [],
   "source": [
    "from IPython.display import display\n",
    "\n",
    "read_df = df[df.label == 'Reading']\n",
    "inspect_df = df[df.label == 'Inspection']\n",
    "search_df = df[df.label == 'Search']\n",
    "\n",
    "#print(\"Sample reading data:\")\n",
    "#display(read_df[['meanFix', 'maxFix', 'varFix', 'xDir', 'yDir']].head(10))\n",
    "\n",
    "#print(\"Sample inspection data:\")\n",
    "#display(inspect_df[['meanFix', 'maxFix', 'varFix', 'xDir', 'yDir']].head(10))\n",
    "\n",
    "#print(\"Sample search data:\")\n",
    "#display(search_df[['meanFix', 'maxFix', 'varFix', 'xDir', 'yDir']].head(10))"
   ]
  },
  {
   "attachments": {},
   "cell_type": "markdown",
   "id": "e497416d",
   "metadata": {},
   "source": [
    "## For the classification we use an [ExtraTrees Classifier](https://scikit-learn.org/stable/modules/generated/sklearn.ensemble.ExtraTreesClassifier.html)\n",
    "\n",
    "First, we need to include some libraries "
   ]
  },
  {
   "cell_type": "code",
   "execution_count": null,
   "id": "5fec7f70-4561-45ad-b39c-a258e8cc6658",
   "metadata": {},
   "outputs": [],
   "source": [
    "#\n",
    "#Importing the necessary packages and libaries\n",
    "#\n",
    "from sklearn.metrics import confusion_matrix\n",
    "from sklearn.metrics import ConfusionMatrixDisplay\n",
    "from sklearn.model_selection import train_test_split\n",
    "from sklearn import svm, datasets\n",
    "from sklearn.preprocessing import MaxAbsScaler\n",
    "import matplotlib.pyplot as plt\n",
    "import numpy as np"
   ]
  },
  {
   "attachments": {},
   "cell_type": "markdown",
   "id": "8a2f7b70",
   "metadata": {},
   "source": [
    "## Let's store the labels and six selected features (among 19 as denoted in the csv file)"
   ]
  },
  {
   "cell_type": "code",
   "execution_count": null,
   "id": "c8043316-b7d3-4cda-a12e-2af68ebe52c9",
   "metadata": {},
   "outputs": [],
   "source": [
    "features = df[[\"meanFix\", \"maxFix\", \"varFix\", \"xDir\", \"yDir\", \"fixDensPerBB\"]]\n",
    "labels = df ['label']"
   ]
  },
  {
   "attachments": {},
   "cell_type": "markdown",
   "id": "03bb4823",
   "metadata": {},
   "source": [
    "## This is how the features and labels look"
   ]
  },
  {
   "cell_type": "code",
   "execution_count": null,
   "id": "18ef6fdb",
   "metadata": {},
   "outputs": [],
   "source": [
    "print(\"Features:\")\n",
    "display(features.head(10))\n",
    "print(\"Labels:\")\n",
    "display(labels.head(10))"
   ]
  },
  {
   "attachments": {},
   "cell_type": "markdown",
   "id": "4fe3881f",
   "metadata": {},
   "source": [
    "## Let's normalize the features (i.e., each column indivudally)"
   ]
  },
  {
   "cell_type": "code",
   "execution_count": null,
   "id": "e52a248a",
   "metadata": {},
   "outputs": [],
   "source": [
    "scaler = MaxAbsScaler()\n",
    "scaler.fit(features)\n",
    "scaled = scaler.transform(features)\n",
    "scaled_features = pd.DataFrame(scaled, columns=features.columns)\n",
    "print(\"Normalized Features:\")\n",
    "display(scaled_features.head(10))"
   ]
  },
  {
   "cell_type": "markdown",
   "id": "1fcc9ebb-cc4e-4f99-84e7-24ab7fc85dfe",
   "metadata": {},
   "source": [
    "## Training / Test Split"
   ]
  },
  {
   "cell_type": "code",
   "execution_count": null,
   "id": "744f945f-8b52-4b11-a9b2-16efe1c5e5f7",
   "metadata": {},
   "outputs": [],
   "source": [
    "# feature_train, feature_test, label_train, label_test = train_test_split(features, labels, train_size=0.8, random_state = 0, stratify=labels)\n",
    "\n",
    "# Uncomment the following line if you want to work with normalized features. You will note how the accuracy and confusion matrix changes\n",
    "feature_train, feature_test, label_train, label_test = train_test_split(scaled_features, labels, train_size=0.8, random_state = 0, stratify=labels)"
   ]
  },
  {
   "cell_type": "markdown",
   "id": "0528fdfc-2f06-4576-a303-45e37953e817",
   "metadata": {},
   "source": [
    "## Train the Classifier and Compare with RandomForest"
   ]
  },
  {
   "cell_type": "code",
   "execution_count": null,
   "id": "a71bb4cf",
   "metadata": {},
   "outputs": [],
   "source": [
    "from sklearn.ensemble import ExtraTreesClassifier, RandomForestClassifier\n",
    "import time\n",
    "import numpy as np\n",
    "\n",
    "cl = ExtraTreesClassifier(n_estimators=500)\n",
    "cl.fit(feature_train, label_train)"
   ]
  },
  {
   "attachments": {},
   "cell_type": "markdown",
   "id": "d652ad2f",
   "metadata": {},
   "source": [
    "## Lets collect the predictions from test data, . . ."
   ]
  },
  {
   "cell_type": "code",
   "execution_count": null,
   "id": "2a811c57",
   "metadata": {},
   "outputs": [],
   "source": [
    "pred = cl.predict(feature_test)"
   ]
  },
  {
   "attachments": {},
   "cell_type": "markdown",
   "id": "612c93ad",
   "metadata": {},
   "source": [
    "## ... compare them with the RandomForestClassifier, ..."
   ]
  },
  {
   "cell_type": "code",
   "execution_count": null,
   "id": "63ceef7e-6355-4a91-9d04-81fb9f976a73",
   "metadata": {},
   "outputs": [],
   "source": [
    "times = []\n",
    "\n",
    "for i in range(20):\n",
    "    start = time.time()\n",
    "    cl = ExtraTreesClassifier(n_estimators=500)\n",
    "    cl.fit(feature_train, label_train)\n",
    "    pred = cl.predict(feature_test)\n",
    "    end = time.time()\n",
    "    times.append(end-start)\n",
    "\n",
    "print(np.mean(times))\n",
    "print(np.std(times))"
   ]
  },
  {
   "cell_type": "code",
   "execution_count": null,
   "id": "c85d34d7",
   "metadata": {},
   "outputs": [],
   "source": [
    "times = []\n",
    "\n",
    "for i in range(20):\n",
    "    start = time.time()\n",
    "    cl = RandomForestClassifier(n_estimators=500)\n",
    "    cl.fit(feature_train, label_train)\n",
    "    pred = cl.predict(feature_test)\n",
    "    end = time.time()\n",
    "    times.append(end-start)\n",
    "\n",
    "print(np.mean(times))\n",
    "print(np.std(times))"
   ]
  },
  {
   "attachments": {},
   "cell_type": "markdown",
   "id": "33c6e6e2-98ea-460e-845e-89ccc73a2dc0",
   "metadata": {},
   "source": [
    "## . . . and have a look at the accuracy of the ExtraTreesClassifier:"
   ]
  },
  {
   "cell_type": "code",
   "execution_count": null,
   "id": "495965c2-a129-40d0-a94b-449f1758150c",
   "metadata": {},
   "outputs": [],
   "source": [
    "# retrieve the accuracy and print it\n",
    "accuracy = cl.score(feature_test, label_test)\n",
    "print(\"Accuracy:\", accuracy)"
   ]
  },
  {
   "attachments": {},
   "cell_type": "markdown",
   "id": "50bdfd74",
   "metadata": {},
   "source": [
    "## Dump  the trained model so that it can be used in the online mode with the HoloLens 2"
   ]
  },
  {
   "cell_type": "code",
   "execution_count": null,
   "id": "efb89935",
   "metadata": {},
   "outputs": [],
   "source": [
    "from joblib import dump, load\n",
    "dump(cl, 'classifier.joblib') "
   ]
  },
  {
   "attachments": {},
   "cell_type": "markdown",
   "id": "7b05e747-3635-4148-bd0e-a5a6aaa891d3",
   "metadata": {},
   "source": [
    "## This is how the confusion matrices looks like:"
   ]
  },
  {
   "cell_type": "code",
   "execution_count": null,
   "id": "74deeabf-74c9-45e2-9b32-95af9d92561c",
   "metadata": {},
   "outputs": [],
   "source": [
    "# creating a confusion matrix\n",
    "cm = confusion_matrix(label_test, pred)\n",
    "\n",
    "print(\"CM:\")\n",
    "print(cm)"
   ]
  },
  {
   "attachments": {},
   "cell_type": "markdown",
   "id": "9905bbea-de94-48ec-8f3f-c2a6d8680457",
   "metadata": {},
   "source": [
    "## A more colorful confusion matrix:"
   ]
  },
  {
   "cell_type": "code",
   "execution_count": null,
   "id": "b432d298-2985-46bf-a147-34ccdfcad48e",
   "metadata": {},
   "outputs": [],
   "source": [
    "cm = ConfusionMatrixDisplay.from_estimator(cl, feature_test, label_test)\n",
    "fig, ax = plt.subplots(figsize=(8,8))\n",
    "cm.plot(ax=ax)"
   ]
  }
 ],
 "metadata": {
  "kernelspec": {
   "display_name": "Python 3 (ipykernel)",
   "language": "python",
   "name": "python3"
  },
  "language_info": {
   "codemirror_mode": {
    "name": "ipython",
    "version": 3
   },
   "file_extension": ".py",
   "mimetype": "text/x-python",
   "name": "python",
   "nbconvert_exporter": "python",
   "pygments_lexer": "ipython3",
   "version": "3.8.16"
  }
 },
 "nbformat": 4,
 "nbformat_minor": 5
}
